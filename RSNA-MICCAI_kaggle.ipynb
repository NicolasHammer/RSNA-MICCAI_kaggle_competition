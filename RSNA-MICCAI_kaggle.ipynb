{
    "cells": [
        {
            "cell_type": "markdown",
            "source": [
                "# RSNA-MICCAI Kaggle Competition"
            ],
            "metadata": {}
        },
        {
            "cell_type": "markdown",
            "source": [
                "The objective of this project is to predict the likelihood of MGMT promoter methylation given four types of structural multi-parametric MRI scans: \n",
                "- Fluid Attenuated Inversion Recovery (FLAIR)\n",
                "- T1-weighted pre-contrast (T1w)\n",
                "- T1-weighted post-contrast (T1Gd)\n",
                "- T2-weighted (T2)\n",
                "\n",
                "This is useful for predicing receptiveness to chemotherapy because the MGMT promoter fights against the agents used in chemotherapy.  When the MGMT promoter is methylated, the promoter is disabled, thereby making that system receptive to chemotherapy."
            ],
            "metadata": {}
        },
        {
            "cell_type": "markdown",
            "source": [
                "# Let's First Explore the Data"
            ],
            "metadata": {}
        },
        {
            "cell_type": "code",
            "execution_count": 1,
            "source": [
                "# Importing relevant packages for EDA\n",
                "import os\n",
                "import math\n",
                "\n",
                "import numpy as np\n",
                "import pandas as pd\n",
                "import matplotlib.pyplot as plt\n",
                "\n",
                "import pydicom\n"
            ],
            "outputs": [],
            "metadata": {}
        },
        {
            "cell_type": "markdown",
            "source": [
                "## What is the Output?"
            ],
            "metadata": {}
        },
        {
            "cell_type": "markdown",
            "source": [
                "As said in the introduction, the goal of our model is to predict the probability of methylation.  In the sample submission below, there is a list of BraTS2IDs with corresponding probabilities of 0.5 each."
            ],
            "metadata": {}
        },
        {
            "cell_type": "code",
            "execution_count": 2,
            "source": [
                "sample_submission = pd.read_csv(\"data/sample_submission.csv\")\n",
                "sample_submission.head(10)"
            ],
            "outputs": [
                {
                    "output_type": "execute_result",
                    "data": {
                        "text/plain": [
                            "   BraTS21ID  MGMT_value\n",
                            "0          1         0.5\n",
                            "1         13         0.5\n",
                            "2         15         0.5\n",
                            "3         27         0.5\n",
                            "4         37         0.5\n",
                            "5         47         0.5\n",
                            "6         79         0.5\n",
                            "7         80         0.5\n",
                            "8         82         0.5\n",
                            "9         91         0.5"
                        ],
                        "text/html": [
                            "<div>\n",
                            "<style scoped>\n",
                            "    .dataframe tbody tr th:only-of-type {\n",
                            "        vertical-align: middle;\n",
                            "    }\n",
                            "\n",
                            "    .dataframe tbody tr th {\n",
                            "        vertical-align: top;\n",
                            "    }\n",
                            "\n",
                            "    .dataframe thead th {\n",
                            "        text-align: right;\n",
                            "    }\n",
                            "</style>\n",
                            "<table border=\"1\" class=\"dataframe\">\n",
                            "  <thead>\n",
                            "    <tr style=\"text-align: right;\">\n",
                            "      <th></th>\n",
                            "      <th>BraTS21ID</th>\n",
                            "      <th>MGMT_value</th>\n",
                            "    </tr>\n",
                            "  </thead>\n",
                            "  <tbody>\n",
                            "    <tr>\n",
                            "      <th>0</th>\n",
                            "      <td>1</td>\n",
                            "      <td>0.5</td>\n",
                            "    </tr>\n",
                            "    <tr>\n",
                            "      <th>1</th>\n",
                            "      <td>13</td>\n",
                            "      <td>0.5</td>\n",
                            "    </tr>\n",
                            "    <tr>\n",
                            "      <th>2</th>\n",
                            "      <td>15</td>\n",
                            "      <td>0.5</td>\n",
                            "    </tr>\n",
                            "    <tr>\n",
                            "      <th>3</th>\n",
                            "      <td>27</td>\n",
                            "      <td>0.5</td>\n",
                            "    </tr>\n",
                            "    <tr>\n",
                            "      <th>4</th>\n",
                            "      <td>37</td>\n",
                            "      <td>0.5</td>\n",
                            "    </tr>\n",
                            "    <tr>\n",
                            "      <th>5</th>\n",
                            "      <td>47</td>\n",
                            "      <td>0.5</td>\n",
                            "    </tr>\n",
                            "    <tr>\n",
                            "      <th>6</th>\n",
                            "      <td>79</td>\n",
                            "      <td>0.5</td>\n",
                            "    </tr>\n",
                            "    <tr>\n",
                            "      <th>7</th>\n",
                            "      <td>80</td>\n",
                            "      <td>0.5</td>\n",
                            "    </tr>\n",
                            "    <tr>\n",
                            "      <th>8</th>\n",
                            "      <td>82</td>\n",
                            "      <td>0.5</td>\n",
                            "    </tr>\n",
                            "    <tr>\n",
                            "      <th>9</th>\n",
                            "      <td>91</td>\n",
                            "      <td>0.5</td>\n",
                            "    </tr>\n",
                            "  </tbody>\n",
                            "</table>\n",
                            "</div>"
                        ]
                    },
                    "metadata": {},
                    "execution_count": 2
                }
            ],
            "metadata": {}
        },
        {
            "cell_type": "markdown",
            "source": [
                "When training, we'll be given binary labels for the presence of MGMT promoter methylation."
            ],
            "metadata": {}
        },
        {
            "cell_type": "code",
            "execution_count": 3,
            "source": [
                "train_labels = pd.read_csv(\"data/train_labels.csv\")\n",
                "train_labels.head(10)"
            ],
            "outputs": [
                {
                    "output_type": "execute_result",
                    "data": {
                        "text/plain": [
                            "   BraTS21ID  MGMT_value\n",
                            "0          0           1\n",
                            "1          2           1\n",
                            "2          3           0\n",
                            "3          5           1\n",
                            "4          6           1\n",
                            "5          8           1\n",
                            "6          9           0\n",
                            "7         11           1\n",
                            "8         12           1\n",
                            "9         14           1"
                        ],
                        "text/html": [
                            "<div>\n",
                            "<style scoped>\n",
                            "    .dataframe tbody tr th:only-of-type {\n",
                            "        vertical-align: middle;\n",
                            "    }\n",
                            "\n",
                            "    .dataframe tbody tr th {\n",
                            "        vertical-align: top;\n",
                            "    }\n",
                            "\n",
                            "    .dataframe thead th {\n",
                            "        text-align: right;\n",
                            "    }\n",
                            "</style>\n",
                            "<table border=\"1\" class=\"dataframe\">\n",
                            "  <thead>\n",
                            "    <tr style=\"text-align: right;\">\n",
                            "      <th></th>\n",
                            "      <th>BraTS21ID</th>\n",
                            "      <th>MGMT_value</th>\n",
                            "    </tr>\n",
                            "  </thead>\n",
                            "  <tbody>\n",
                            "    <tr>\n",
                            "      <th>0</th>\n",
                            "      <td>0</td>\n",
                            "      <td>1</td>\n",
                            "    </tr>\n",
                            "    <tr>\n",
                            "      <th>1</th>\n",
                            "      <td>2</td>\n",
                            "      <td>1</td>\n",
                            "    </tr>\n",
                            "    <tr>\n",
                            "      <th>2</th>\n",
                            "      <td>3</td>\n",
                            "      <td>0</td>\n",
                            "    </tr>\n",
                            "    <tr>\n",
                            "      <th>3</th>\n",
                            "      <td>5</td>\n",
                            "      <td>1</td>\n",
                            "    </tr>\n",
                            "    <tr>\n",
                            "      <th>4</th>\n",
                            "      <td>6</td>\n",
                            "      <td>1</td>\n",
                            "    </tr>\n",
                            "    <tr>\n",
                            "      <th>5</th>\n",
                            "      <td>8</td>\n",
                            "      <td>1</td>\n",
                            "    </tr>\n",
                            "    <tr>\n",
                            "      <th>6</th>\n",
                            "      <td>9</td>\n",
                            "      <td>0</td>\n",
                            "    </tr>\n",
                            "    <tr>\n",
                            "      <th>7</th>\n",
                            "      <td>11</td>\n",
                            "      <td>1</td>\n",
                            "    </tr>\n",
                            "    <tr>\n",
                            "      <th>8</th>\n",
                            "      <td>12</td>\n",
                            "      <td>1</td>\n",
                            "    </tr>\n",
                            "    <tr>\n",
                            "      <th>9</th>\n",
                            "      <td>14</td>\n",
                            "      <td>1</td>\n",
                            "    </tr>\n",
                            "  </tbody>\n",
                            "</table>\n",
                            "</div>"
                        ]
                    },
                    "metadata": {},
                    "execution_count": 3
                }
            ],
            "metadata": {}
        },
        {
            "cell_type": "markdown",
            "source": [
                "## What is the Input?"
            ],
            "metadata": {}
        },
        {
            "cell_type": "markdown",
            "source": [
                "For each patient (who has an ID), we have four different types of multi-paramteric MRI scans.  Each MRI scan is a 3D scan broken down into a folder of 2D images.  To start, let's take a look at one image from one of the FLAIR training scans. "
            ],
            "metadata": {}
        },
        {
            "cell_type": "code",
            "execution_count": 4,
            "source": [
                "patient_path = \"data/train/00000/\"\n",
                "mri_types = [\"FLAIR\", \"T1w\", \"T1wCE\", \"T2w\"]\n",
                "quartiles = [1/5, 2/5, 3/5, 4/5]\n",
                "\n",
                "fig, ax = plt.subplots(4, 4, figsize=(8, 8), tight_layout=True)\n",
                "for i, mri_type in enumerate(mri_types):\n",
                "    filenames = [x for x in os.listdir(os.path.join(patient_path, mri_type))]\n",
                "    print(f\"Nummber of {mri_type} Images = {len(filenames)}\")\n",
                "    for j, quartile in enumerate(quartiles):\n",
                "        filename = filenames[math.floor(len(filenames)*quartile)]\n",
                "\n",
                "        example_image = pydicom.filereader.dcmread(\n",
                "            os.path.join(patient_path, mri_type, filename)).pixel_array\n",
                "\n",
                "        ax[j, i].imshow(example_image, cmap=\"gray\")\n",
                "        ax[j, i].set_axis_off()\n",
                "        if not j:\n",
                "            ax[j, i].set_title(mri_type, size=10)\n",
                "\n",
                "fig.suptitle(\"MRI Images of Patient 00000\")\n",
                "fig.show()\n"
            ],
            "outputs": [
                {
                    "output_type": "stream",
                    "name": "stdout",
                    "text": [
                        "Nummber of FLAIR Images = 400\n",
                        "Nummber of T1w Images = 33\n",
                        "Nummber of T1wCE Images = 129\n",
                        "Nummber of T2w Images = 408\n"
                    ]
                },
                {
                    "output_type": "display_data",
                    "data": {
                        "text/plain": [
                            "<Figure size 576x576 with 16 Axes>"
                        ],
                        "image/png": "[encoded data removed]"
                    },
                    "metadata": {
                        "needs_background": "light"
                    }
                }
            ],
            "metadata": {}
        },
        {
            "cell_type": "markdown",
            "source": [
                "## Data Management"
            ],
            "metadata": {}
        },
        {
            "cell_type": "markdown",
            "source": [
                "Let's add folder names to each row of the training labels."
            ],
            "metadata": {}
        },
        {
            "cell_type": "code",
            "execution_count": 5,
            "source": [
                "train_labels[\"imfolder\"] = [\"{0:05d}\".format(\n",
                "    id) for id in train_labels[\"BraTS21ID\"]]\n",
                "train_labels.head(10)\n"
            ],
            "outputs": [
                {
                    "output_type": "execute_result",
                    "data": {
                        "text/plain": [
                            "   BraTS21ID  MGMT_value imfolder\n",
                            "0          0           1    00000\n",
                            "1          2           1    00002\n",
                            "2          3           0    00003\n",
                            "3          5           1    00005\n",
                            "4          6           1    00006\n",
                            "5          8           1    00008\n",
                            "6          9           0    00009\n",
                            "7         11           1    00011\n",
                            "8         12           1    00012\n",
                            "9         14           1    00014"
                        ],
                        "text/html": [
                            "<div>\n",
                            "<style scoped>\n",
                            "    .dataframe tbody tr th:only-of-type {\n",
                            "        vertical-align: middle;\n",
                            "    }\n",
                            "\n",
                            "    .dataframe tbody tr th {\n",
                            "        vertical-align: top;\n",
                            "    }\n",
                            "\n",
                            "    .dataframe thead th {\n",
                            "        text-align: right;\n",
                            "    }\n",
                            "</style>\n",
                            "<table border=\"1\" class=\"dataframe\">\n",
                            "  <thead>\n",
                            "    <tr style=\"text-align: right;\">\n",
                            "      <th></th>\n",
                            "      <th>BraTS21ID</th>\n",
                            "      <th>MGMT_value</th>\n",
                            "      <th>imfolder</th>\n",
                            "    </tr>\n",
                            "  </thead>\n",
                            "  <tbody>\n",
                            "    <tr>\n",
                            "      <th>0</th>\n",
                            "      <td>0</td>\n",
                            "      <td>1</td>\n",
                            "      <td>00000</td>\n",
                            "    </tr>\n",
                            "    <tr>\n",
                            "      <th>1</th>\n",
                            "      <td>2</td>\n",
                            "      <td>1</td>\n",
                            "      <td>00002</td>\n",
                            "    </tr>\n",
                            "    <tr>\n",
                            "      <th>2</th>\n",
                            "      <td>3</td>\n",
                            "      <td>0</td>\n",
                            "      <td>00003</td>\n",
                            "    </tr>\n",
                            "    <tr>\n",
                            "      <th>3</th>\n",
                            "      <td>5</td>\n",
                            "      <td>1</td>\n",
                            "      <td>00005</td>\n",
                            "    </tr>\n",
                            "    <tr>\n",
                            "      <th>4</th>\n",
                            "      <td>6</td>\n",
                            "      <td>1</td>\n",
                            "      <td>00006</td>\n",
                            "    </tr>\n",
                            "    <tr>\n",
                            "      <th>5</th>\n",
                            "      <td>8</td>\n",
                            "      <td>1</td>\n",
                            "      <td>00008</td>\n",
                            "    </tr>\n",
                            "    <tr>\n",
                            "      <th>6</th>\n",
                            "      <td>9</td>\n",
                            "      <td>0</td>\n",
                            "      <td>00009</td>\n",
                            "    </tr>\n",
                            "    <tr>\n",
                            "      <th>7</th>\n",
                            "      <td>11</td>\n",
                            "      <td>1</td>\n",
                            "      <td>00011</td>\n",
                            "    </tr>\n",
                            "    <tr>\n",
                            "      <th>8</th>\n",
                            "      <td>12</td>\n",
                            "      <td>1</td>\n",
                            "      <td>00012</td>\n",
                            "    </tr>\n",
                            "    <tr>\n",
                            "      <th>9</th>\n",
                            "      <td>14</td>\n",
                            "      <td>1</td>\n",
                            "      <td>00014</td>\n",
                            "    </tr>\n",
                            "  </tbody>\n",
                            "</table>\n",
                            "</div>"
                        ]
                    },
                    "metadata": {},
                    "execution_count": 5
                }
            ],
            "metadata": {}
        },
        {
            "cell_type": "markdown",
            "source": [
                "Let's add the number of MRI scans of each type for each patient."
            ],
            "metadata": {}
        },
        {
            "cell_type": "code",
            "execution_count": 13,
            "source": [
                "train_path = \"data/train\"\n",
                "train_labels.reindex(columns=mri_types, fill_value=0)\n",
                "train_labels[mri_types] = train_labels[mri_types].astype(int)\n",
                "\n",
                "for i in train_labels.index:\n",
                "    for mri_type in mri_types:\n",
                "        train_labels.at[i, mri_type] = sum(len(files) for _, _, files in os.walk(\n",
                "            os.path.join(train_path, train_labels.at[i, \"imfolder\"], mri_type)))\n",
                "\n",
                "train_labels.head(10)\n"
            ],
            "outputs": [
                {
                    "output_type": "execute_result",
                    "data": {
                        "text/plain": [
                            "   BraTS21ID  MGMT_value imfolder  FLAIR  T1w  T1wCE  T2w\n",
                            "0          0           1    00000    400   33    129  408\n",
                            "1          2           1    00002    129   31    129  384\n",
                            "2          3           0    00003    129   33    129  408\n",
                            "3          5           1    00005    400   28    129  424\n",
                            "4          6           1    00006    129   32    129  408\n",
                            "5          8           1    00008    168   30    150  168\n",
                            "6          9           0    00009    240   32    360  288\n",
                            "7         11           1    00011    129   33    129  129\n",
                            "8         12           1    00012    400   31    304  448\n",
                            "9         14           1    00014    216  352    352  129"
                        ],
                        "text/html": [
                            "<div>\n",
                            "<style scoped>\n",
                            "    .dataframe tbody tr th:only-of-type {\n",
                            "        vertical-align: middle;\n",
                            "    }\n",
                            "\n",
                            "    .dataframe tbody tr th {\n",
                            "        vertical-align: top;\n",
                            "    }\n",
                            "\n",
                            "    .dataframe thead th {\n",
                            "        text-align: right;\n",
                            "    }\n",
                            "</style>\n",
                            "<table border=\"1\" class=\"dataframe\">\n",
                            "  <thead>\n",
                            "    <tr style=\"text-align: right;\">\n",
                            "      <th></th>\n",
                            "      <th>BraTS21ID</th>\n",
                            "      <th>MGMT_value</th>\n",
                            "      <th>imfolder</th>\n",
                            "      <th>FLAIR</th>\n",
                            "      <th>T1w</th>\n",
                            "      <th>T1wCE</th>\n",
                            "      <th>T2w</th>\n",
                            "    </tr>\n",
                            "  </thead>\n",
                            "  <tbody>\n",
                            "    <tr>\n",
                            "      <th>0</th>\n",
                            "      <td>0</td>\n",
                            "      <td>1</td>\n",
                            "      <td>00000</td>\n",
                            "      <td>400</td>\n",
                            "      <td>33</td>\n",
                            "      <td>129</td>\n",
                            "      <td>408</td>\n",
                            "    </tr>\n",
                            "    <tr>\n",
                            "      <th>1</th>\n",
                            "      <td>2</td>\n",
                            "      <td>1</td>\n",
                            "      <td>00002</td>\n",
                            "      <td>129</td>\n",
                            "      <td>31</td>\n",
                            "      <td>129</td>\n",
                            "      <td>384</td>\n",
                            "    </tr>\n",
                            "    <tr>\n",
                            "      <th>2</th>\n",
                            "      <td>3</td>\n",
                            "      <td>0</td>\n",
                            "      <td>00003</td>\n",
                            "      <td>129</td>\n",
                            "      <td>33</td>\n",
                            "      <td>129</td>\n",
                            "      <td>408</td>\n",
                            "    </tr>\n",
                            "    <tr>\n",
                            "      <th>3</th>\n",
                            "      <td>5</td>\n",
                            "      <td>1</td>\n",
                            "      <td>00005</td>\n",
                            "      <td>400</td>\n",
                            "      <td>28</td>\n",
                            "      <td>129</td>\n",
                            "      <td>424</td>\n",
                            "    </tr>\n",
                            "    <tr>\n",
                            "      <th>4</th>\n",
                            "      <td>6</td>\n",
                            "      <td>1</td>\n",
                            "      <td>00006</td>\n",
                            "      <td>129</td>\n",
                            "      <td>32</td>\n",
                            "      <td>129</td>\n",
                            "      <td>408</td>\n",
                            "    </tr>\n",
                            "    <tr>\n",
                            "      <th>5</th>\n",
                            "      <td>8</td>\n",
                            "      <td>1</td>\n",
                            "      <td>00008</td>\n",
                            "      <td>168</td>\n",
                            "      <td>30</td>\n",
                            "      <td>150</td>\n",
                            "      <td>168</td>\n",
                            "    </tr>\n",
                            "    <tr>\n",
                            "      <th>6</th>\n",
                            "      <td>9</td>\n",
                            "      <td>0</td>\n",
                            "      <td>00009</td>\n",
                            "      <td>240</td>\n",
                            "      <td>32</td>\n",
                            "      <td>360</td>\n",
                            "      <td>288</td>\n",
                            "    </tr>\n",
                            "    <tr>\n",
                            "      <th>7</th>\n",
                            "      <td>11</td>\n",
                            "      <td>1</td>\n",
                            "      <td>00011</td>\n",
                            "      <td>129</td>\n",
                            "      <td>33</td>\n",
                            "      <td>129</td>\n",
                            "      <td>129</td>\n",
                            "    </tr>\n",
                            "    <tr>\n",
                            "      <th>8</th>\n",
                            "      <td>12</td>\n",
                            "      <td>1</td>\n",
                            "      <td>00012</td>\n",
                            "      <td>400</td>\n",
                            "      <td>31</td>\n",
                            "      <td>304</td>\n",
                            "      <td>448</td>\n",
                            "    </tr>\n",
                            "    <tr>\n",
                            "      <th>9</th>\n",
                            "      <td>14</td>\n",
                            "      <td>1</td>\n",
                            "      <td>00014</td>\n",
                            "      <td>216</td>\n",
                            "      <td>352</td>\n",
                            "      <td>352</td>\n",
                            "      <td>129</td>\n",
                            "    </tr>\n",
                            "  </tbody>\n",
                            "</table>\n",
                            "</div>"
                        ]
                    },
                    "metadata": {},
                    "execution_count": 13
                }
            ],
            "metadata": {}
        },
        {
            "cell_type": "markdown",
            "source": [
                "Unfortunately, it looks like the number of MRI images is not consistent across patients and MRI types.  Let's see how many patients have the same number of images across MRI types."
            ],
            "metadata": {}
        },
        {
            "cell_type": "code",
            "execution_count": 17,
            "source": [
                "num_allsame = sum([train_labels.at[i, \"FLAIR\"] == train_labels.at[i, \"T1w\"]\n",
                "                   == train_labels.at[i, \"T1wCE\"] == train_labels.at[i, \"T2w\"]\n",
                "                   for i in train_labels.index])\n",
                "print(f\"{num_allsame = }\")\n"
            ],
            "outputs": [
                {
                    "output_type": "stream",
                    "name": "stdout",
                    "text": [
                        "num_allsame =63\n"
                    ]
                }
            ],
            "metadata": {}
        }
    ],
    "metadata": {
        "orig_nbformat": 4,
        "language_info": {
            "name": "python",
            "version": "3.8.6",
            "mimetype": "text/x-python",
            "codemirror_mode": {
                "name": "ipython",
                "version": 3
            },
            "pygments_lexer": "ipython3",
            "nbconvert_exporter": "python",
            "file_extension": ".py"
        },
        "kernelspec": {
            "name": "python3",
            "display_name": "Python 3.8.6 64-bit ('.env': venv)"
        },
        "interpreter": {
            "hash": "d0243063896cc0741dc2bd84024b1fddce5c5cb36ab3e12b5cb48af2be3c3430"
        }
    },
    "nbformat": 4,
    "nbformat_minor": 2
}